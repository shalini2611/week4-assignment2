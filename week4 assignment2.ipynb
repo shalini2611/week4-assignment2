{
 "cells": [
  {
   "cell_type": "markdown",
   "id": "07f52a39-0052-4bfc-8fda-63e133dc21f8",
   "metadata": {},
   "source": [
    "## Q1. what  is abstraction in OOps?explain with an example"
   ]
  },
  {
   "cell_type": "code",
   "execution_count": null,
   "id": "25ff230f-6304-481a-8ab4-40d3a008dd79",
   "metadata": {},
   "outputs": [],
   "source": [
    "##Ans1 Abstraction in python is defined as a process of handling complexity by hiding unnecessary information from the user. This is one of the core concepts of object-oriented programming (OOP) language...\n",
    "example given below...."
   ]
  },
  {
   "cell_type": "code",
   "execution_count": null,
   "id": "04c3bdde-548c-4eb2-b615-d230cf56f173",
   "metadata": {},
   "outputs": [],
   "source": [
    " \n",
    "from abc import ABC, abstractmethod   \n",
    "class Car(ABC):   \n",
    "    def mileage(self):   \n",
    "        pass  \n",
    "  \n",
    "class Tesla(Car):   \n",
    "    def mileage(self):   \n",
    "        print(\"The mileage is 30kmph\")   \n",
    "class Suzuki(Car):   \n",
    "    def mileage(self):   \n",
    "        print(\"The mileage is 25kmph \")   \n",
    "class Duster(Car):   \n",
    "     def mileage(self):   \n",
    "          print(\"The mileage is 24kmph \")   \n",
    "  \n",
    "class Renault(Car):   \n",
    "    def mileage(self):   \n",
    "            print(\"The mileage is 27kmph \")   \n",
    "          \n",
    "# Driver code   \n",
    "t= Tesla ()   \n",
    "t.mileage()   \n",
    "  \n",
    "r = Renault()   \n",
    "r.mileage()   \n",
    "  \n",
    "s = Suzuki()   \n",
    "s.mileage()   \n",
    "d = Duster()   \n",
    "d.mileage()  "
   ]
  },
  {
   "cell_type": "markdown",
   "id": "c86f8777-00be-433b-aac3-0c178ef84fbf",
   "metadata": {},
   "source": [
    "# Q2 differentiate between abstraction and encapsulation "
   ]
  },
  {
   "cell_type": "markdown",
   "id": "2c699632-2815-45b4-9ef1-2d868c62dfc3",
   "metadata": {},
   "source": [
    "##Ans1. 1.Abstraction is the method or process of gaining the information while encapsulation is the process to contain the information\n",
    "        2. in abstraction problem are solved at the design or interface level while in encapsulation problem are solved  at the implementation level...\n",
    "        3. abstraction is the method of hiding the unwanted information while encapsulation is the method to hide the data in the single entity or unit....\n"
   ]
  },
  {
   "cell_type": "markdown",
   "id": "366f52ad-cfea-457a-8aaa-6795aee29866",
   "metadata": {},
   "source": [
    "# Q3 what is abc module in python?why it is used\n"
   ]
  },
  {
   "cell_type": "markdown",
   "id": "b00d2627-0fd7-4942-8d83-72776840d702",
   "metadata": {},
   "source": [
    "##Ans3   The ‘abc’ module in the Python library provides the infrastructure for defining custom abstract base classes.\n",
    "\n",
    "Abstract class cannot be instantiated in python. An Abstract method can be call by its subclasses.\n",
    "\n",
    "here is the example.."
   ]
  },
  {
   "cell_type": "code",
   "execution_count": 6,
   "id": "81a1705a-608d-4f1f-ac55-82ccb1d5c6ba",
   "metadata": {},
   "outputs": [],
   "source": [
    "import abc\n",
    "class pwskills:\n",
    "    \n",
    "    @abc.abstractmethod\n",
    "    def students_details(self):\n",
    "        pass\n",
    "    \n",
    "    @abc.abstractmethod\n",
    "    def students_assignment(self):\n",
    "        pass\n",
    "    \n",
    "    @abc.abstractmethod\n",
    "    def student_marks(self):\n",
    "        pass\n",
    "    "
   ]
  },
  {
   "cell_type": "code",
   "execution_count": 7,
   "id": "e1414169-7bac-4a7e-9c9f-6d1d7716e4d8",
   "metadata": {},
   "outputs": [],
   "source": [
    "class student_details(pwskills):\n",
    "    def student_details(self):\n",
    "        return\"method for taking details\"\n",
    "    def students_assignment(self):\n",
    "        return\" method for assign detils for perticular student\""
   ]
  },
  {
   "cell_type": "code",
   "execution_count": 8,
   "id": "e8f95fae-69fd-44b4-b467-f79835011a19",
   "metadata": {},
   "outputs": [],
   "source": [
    "class datascience(pwskills):\n",
    "    def students_details(self):\n",
    "        return\"return student details for data science students for a pericular students\"\n",
    "    def students_assignment(self):\n",
    "        return\"return student assignment details for data science students\""
   ]
  },
  {
   "cell_type": "code",
   "execution_count": 9,
   "id": "0b95c289-dcb7-4c52-b40c-a7a7f12af40d",
   "metadata": {},
   "outputs": [
    {
     "data": {
      "text/plain": [
       "'return student details for data science students for a pericular students'"
      ]
     },
     "execution_count": 9,
     "metadata": {},
     "output_type": "execute_result"
    }
   ],
   "source": [
    "dsm= datascience()\n",
    "dsm.students_details()"
   ]
  },
  {
   "cell_type": "code",
   "execution_count": 10,
   "id": "b117c94e-4874-4334-b093-236716020a41",
   "metadata": {},
   "outputs": [],
   "source": [
    "# Q4 how can we achieve data abstraction?"
   ]
  },
  {
   "cell_type": "markdown",
   "id": "c0a60950-618b-4978-be02-4b2af9e4c180",
   "metadata": {},
   "source": [
    "##Ans 3 ..same above example define the data abstraction function"
   ]
  },
  {
   "cell_type": "markdown",
   "id": "594e637b-6f10-48de-928a-68aac54a3b14",
   "metadata": {},
   "source": [
    "# Q5 can we create an instance of an abstract class ?explain your ans "
   ]
  },
  {
   "cell_type": "markdown",
   "id": "cd9acbda-dabe-4e95-8328-decd8f840bec",
   "metadata": {},
   "source": [
    "##Ans 5\n",
    "a\n",
    "Abstract class are not complete ,as they have some method that are not defined .se we can not xreate an instance or object pof any abstract class..\n",
    "it can be used by creating an child class or we can say any sub class which inherit the abstract class ..\n",
    "in python we can not create anmy abstract class directly like any other lang here we import abc module which help us to create an abstract class"
   ]
  }
 ],
 "metadata": {
  "kernelspec": {
   "display_name": "Python 3 (ipykernel)",
   "language": "python",
   "name": "python3"
  },
  "language_info": {
   "codemirror_mode": {
    "name": "ipython",
    "version": 3
   },
   "file_extension": ".py",
   "mimetype": "text/x-python",
   "name": "python",
   "nbconvert_exporter": "python",
   "pygments_lexer": "ipython3",
   "version": "3.10.8"
  }
 },
 "nbformat": 4,
 "nbformat_minor": 5
}
